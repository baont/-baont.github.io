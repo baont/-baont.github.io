{
  "cells": [
    {
      "cell_type": "markdown",
      "metadata": {
        "id": "view-in-github",
        "colab_type": "text"
      },
      "source": [
        "<a href=\"https://colab.research.google.com/github/baont/-baont.github.io/blob/master/feq.ipynb\" target=\"_parent\"><img src=\"https://colab.research.google.com/assets/colab-badge.svg\" alt=\"Open In Colab\"/></a>"
      ]
    },
    {
      "cell_type": "code",
      "execution_count": 2,
      "metadata": {
        "id": "8952d855"
      },
      "outputs": [],
      "source": [
        "# from binance import Client, ThreadedWebsocketManager, ThreadedDepthCacheManager\n",
        "from keras.utils import to_categorical\n",
        "from sklearn.preprocessing import LabelEncoder\n",
        "from sklearn.preprocessing import MinMaxScaler\n",
        "from sklearn.preprocessing import StandardScaler\n",
        "from sklearn.preprocessing import LabelEncoder\n",
        "from sklearn.utils import shuffle\n",
        "import pandas as pd\n",
        "import math\n",
        "import numpy as np\n",
        "from scipy.stats import lognorm\n",
        "import statsmodels.api as sm\n",
        "import matplotlib.pyplot as plt\n",
        "from pandas import read_csv\n",
        "from keras.layers import Dense, SimpleRNN\n",
        "from keras.models import Sequential\n",
        "from sklearn.preprocessing import MinMaxScaler\n",
        "from sklearn.metrics import mean_squared_error\n",
        "from keras.models import Sequential\n",
        "from keras.layers import Dense, LSTM, GRU\n",
        "# from keras.utils import np_utils\n",
        "from sklearn.model_selection import cross_val_score\n",
        "from sklearn.model_selection import KFold\n",
        "from sklearn.preprocessing import LabelEncoder\n",
        "from sklearn.pipeline import Pipeline\n",
        "from pyarrow import feather\n",
        "import os"
      ],
      "id": "8952d855"
    },
    {
      "cell_type": "code",
      "execution_count": 3,
      "metadata": {
        "colab": {
          "base_uri": "https://localhost:8080/"
        },
        "id": "KYf7ZirRTfGg",
        "outputId": "e5ed7275-7214-4b7d-f879-98943acf2e50"
      },
      "outputs": [
        {
          "output_type": "stream",
          "name": "stdout",
          "text": [
            "Mounted at /content/drive\n"
          ]
        }
      ],
      "source": [
        "from google.colab import drive\n",
        "drive.mount('/content/drive')"
      ],
      "id": "KYf7ZirRTfGg"
    },
    {
      "cell_type": "code",
      "execution_count": null,
      "metadata": {
        "colab": {
          "base_uri": "https://localhost:8080/",
          "height": 35
        },
        "id": "f80aebf4",
        "outputId": "fb32bcd3-05ef-485d-a5a5-a38d93707425"
      },
      "outputs": [
        {
          "data": {
            "application/vnd.google.colaboratory.intrinsic+json": {
              "type": "string"
            },
            "text/plain": [
              "'/content'"
            ]
          },
          "execution_count": 8,
          "metadata": {},
          "output_type": "execute_result"
        }
      ],
      "source": [
        "notebook_path = os.getcwd()\n",
        "notebook_path"
      ],
      "id": "f80aebf4"
    },
    {
      "cell_type": "code",
      "execution_count": 4,
      "metadata": {
        "colab": {
          "base_uri": "https://localhost:8080/",
          "height": 74
        },
        "id": "ibV_xPCQULTQ",
        "outputId": "9661c690-28eb-47ce-8964-93a00ff1a408"
      },
      "outputs": [
        {
          "output_type": "display_data",
          "data": {
            "text/plain": [
              "<IPython.core.display.HTML object>"
            ],
            "text/html": [
              "\n",
              "     <input type=\"file\" id=\"files-b4626389-2265-4520-bcb7-2b2b9e4a7ee7\" name=\"files[]\" multiple disabled\n",
              "        style=\"border:none\" />\n",
              "     <output id=\"result-b4626389-2265-4520-bcb7-2b2b9e4a7ee7\">\n",
              "      Upload widget is only available when the cell has been executed in the\n",
              "      current browser session. Please rerun this cell to enable.\n",
              "      </output>\n",
              "      <script>// Copyright 2017 Google LLC\n",
              "//\n",
              "// Licensed under the Apache License, Version 2.0 (the \"License\");\n",
              "// you may not use this file except in compliance with the License.\n",
              "// You may obtain a copy of the License at\n",
              "//\n",
              "//      http://www.apache.org/licenses/LICENSE-2.0\n",
              "//\n",
              "// Unless required by applicable law or agreed to in writing, software\n",
              "// distributed under the License is distributed on an \"AS IS\" BASIS,\n",
              "// WITHOUT WARRANTIES OR CONDITIONS OF ANY KIND, either express or implied.\n",
              "// See the License for the specific language governing permissions and\n",
              "// limitations under the License.\n",
              "\n",
              "/**\n",
              " * @fileoverview Helpers for google.colab Python module.\n",
              " */\n",
              "(function(scope) {\n",
              "function span(text, styleAttributes = {}) {\n",
              "  const element = document.createElement('span');\n",
              "  element.textContent = text;\n",
              "  for (const key of Object.keys(styleAttributes)) {\n",
              "    element.style[key] = styleAttributes[key];\n",
              "  }\n",
              "  return element;\n",
              "}\n",
              "\n",
              "// Max number of bytes which will be uploaded at a time.\n",
              "const MAX_PAYLOAD_SIZE = 100 * 1024;\n",
              "\n",
              "function _uploadFiles(inputId, outputId) {\n",
              "  const steps = uploadFilesStep(inputId, outputId);\n",
              "  const outputElement = document.getElementById(outputId);\n",
              "  // Cache steps on the outputElement to make it available for the next call\n",
              "  // to uploadFilesContinue from Python.\n",
              "  outputElement.steps = steps;\n",
              "\n",
              "  return _uploadFilesContinue(outputId);\n",
              "}\n",
              "\n",
              "// This is roughly an async generator (not supported in the browser yet),\n",
              "// where there are multiple asynchronous steps and the Python side is going\n",
              "// to poll for completion of each step.\n",
              "// This uses a Promise to block the python side on completion of each step,\n",
              "// then passes the result of the previous step as the input to the next step.\n",
              "function _uploadFilesContinue(outputId) {\n",
              "  const outputElement = document.getElementById(outputId);\n",
              "  const steps = outputElement.steps;\n",
              "\n",
              "  const next = steps.next(outputElement.lastPromiseValue);\n",
              "  return Promise.resolve(next.value.promise).then((value) => {\n",
              "    // Cache the last promise value to make it available to the next\n",
              "    // step of the generator.\n",
              "    outputElement.lastPromiseValue = value;\n",
              "    return next.value.response;\n",
              "  });\n",
              "}\n",
              "\n",
              "/**\n",
              " * Generator function which is called between each async step of the upload\n",
              " * process.\n",
              " * @param {string} inputId Element ID of the input file picker element.\n",
              " * @param {string} outputId Element ID of the output display.\n",
              " * @return {!Iterable<!Object>} Iterable of next steps.\n",
              " */\n",
              "function* uploadFilesStep(inputId, outputId) {\n",
              "  const inputElement = document.getElementById(inputId);\n",
              "  inputElement.disabled = false;\n",
              "\n",
              "  const outputElement = document.getElementById(outputId);\n",
              "  outputElement.innerHTML = '';\n",
              "\n",
              "  const pickedPromise = new Promise((resolve) => {\n",
              "    inputElement.addEventListener('change', (e) => {\n",
              "      resolve(e.target.files);\n",
              "    });\n",
              "  });\n",
              "\n",
              "  const cancel = document.createElement('button');\n",
              "  inputElement.parentElement.appendChild(cancel);\n",
              "  cancel.textContent = 'Cancel upload';\n",
              "  const cancelPromise = new Promise((resolve) => {\n",
              "    cancel.onclick = () => {\n",
              "      resolve(null);\n",
              "    };\n",
              "  });\n",
              "\n",
              "  // Wait for the user to pick the files.\n",
              "  const files = yield {\n",
              "    promise: Promise.race([pickedPromise, cancelPromise]),\n",
              "    response: {\n",
              "      action: 'starting',\n",
              "    }\n",
              "  };\n",
              "\n",
              "  cancel.remove();\n",
              "\n",
              "  // Disable the input element since further picks are not allowed.\n",
              "  inputElement.disabled = true;\n",
              "\n",
              "  if (!files) {\n",
              "    return {\n",
              "      response: {\n",
              "        action: 'complete',\n",
              "      }\n",
              "    };\n",
              "  }\n",
              "\n",
              "  for (const file of files) {\n",
              "    const li = document.createElement('li');\n",
              "    li.append(span(file.name, {fontWeight: 'bold'}));\n",
              "    li.append(span(\n",
              "        `(${file.type || 'n/a'}) - ${file.size} bytes, ` +\n",
              "        `last modified: ${\n",
              "            file.lastModifiedDate ? file.lastModifiedDate.toLocaleDateString() :\n",
              "                                    'n/a'} - `));\n",
              "    const percent = span('0% done');\n",
              "    li.appendChild(percent);\n",
              "\n",
              "    outputElement.appendChild(li);\n",
              "\n",
              "    const fileDataPromise = new Promise((resolve) => {\n",
              "      const reader = new FileReader();\n",
              "      reader.onload = (e) => {\n",
              "        resolve(e.target.result);\n",
              "      };\n",
              "      reader.readAsArrayBuffer(file);\n",
              "    });\n",
              "    // Wait for the data to be ready.\n",
              "    let fileData = yield {\n",
              "      promise: fileDataPromise,\n",
              "      response: {\n",
              "        action: 'continue',\n",
              "      }\n",
              "    };\n",
              "\n",
              "    // Use a chunked sending to avoid message size limits. See b/62115660.\n",
              "    let position = 0;\n",
              "    do {\n",
              "      const length = Math.min(fileData.byteLength - position, MAX_PAYLOAD_SIZE);\n",
              "      const chunk = new Uint8Array(fileData, position, length);\n",
              "      position += length;\n",
              "\n",
              "      const base64 = btoa(String.fromCharCode.apply(null, chunk));\n",
              "      yield {\n",
              "        response: {\n",
              "          action: 'append',\n",
              "          file: file.name,\n",
              "          data: base64,\n",
              "        },\n",
              "      };\n",
              "\n",
              "      let percentDone = fileData.byteLength === 0 ?\n",
              "          100 :\n",
              "          Math.round((position / fileData.byteLength) * 100);\n",
              "      percent.textContent = `${percentDone}% done`;\n",
              "\n",
              "    } while (position < fileData.byteLength);\n",
              "  }\n",
              "\n",
              "  // All done.\n",
              "  yield {\n",
              "    response: {\n",
              "      action: 'complete',\n",
              "    }\n",
              "  };\n",
              "}\n",
              "\n",
              "scope.google = scope.google || {};\n",
              "scope.google.colab = scope.google.colab || {};\n",
              "scope.google.colab._files = {\n",
              "  _uploadFiles,\n",
              "  _uploadFilesContinue,\n",
              "};\n",
              "})(self);\n",
              "</script> "
            ]
          },
          "metadata": {}
        },
        {
          "output_type": "stream",
          "name": "stdout",
          "text": [
            "Saving ETH_USDT_USDT-1m-futures.feather to ETH_USDT_USDT-1m-futures.feather\n"
          ]
        }
      ],
      "source": [
        "from google.colab import files\n",
        "uploaded = files.upload()"
      ],
      "id": "ibV_xPCQULTQ"
    },
    {
      "cell_type": "code",
      "execution_count": 5,
      "metadata": {
        "id": "c15185b5"
      },
      "outputs": [],
      "source": [
        "df = pd.read_feather('/content/ETH_USDT_USDT-1m-futures.feather')"
      ],
      "id": "c15185b5"
    },
    {
      "cell_type": "code",
      "execution_count": 6,
      "metadata": {
        "id": "2324dc2e"
      },
      "outputs": [],
      "source": [
        "df['close'] = df['close'].astype(float)\n",
        "df['open'] = df['open'].astype(float)\n",
        "df['high'] = df['high'].astype(float)\n",
        "df['low'] = df['low'].astype(float)\n",
        "df['volume'] = df['volume'].astype(float)\n"
      ],
      "id": "2324dc2e"
    },
    {
      "cell_type": "code",
      "execution_count": 7,
      "metadata": {
        "id": "e5678633"
      },
      "outputs": [],
      "source": [
        "df['dif'] = (df['close'] - df['close'].shift(1))*100 / df['close'].shift(1)"
      ],
      "id": "e5678633"
    },
    {
      "cell_type": "code",
      "execution_count": 8,
      "metadata": {
        "id": "9e2c1d4d"
      },
      "outputs": [],
      "source": [
        "observe_duration = 10\n",
        "time_steps = 90\n",
        "# in percent\n",
        "profit_margin = 5\n",
        "leverage = 60\n",
        "diff_limit = 0.2\n",
        "\n",
        "closes = df['close'].values[1:]\n",
        "opens = df['open'].values[1:]\n",
        "highs = df['high'].values[1:]\n",
        "lows = df['low'].values[1:]\n",
        "\n",
        "diffs = df['dif'].values[1:]\n",
        "for i in range(len(diffs)):\n",
        "    if diffs[i] > diff_limit:\n",
        "        diffs[i] = diff_limit\n",
        "    if diffs[i] < -diff_limit:\n",
        "        diffs[i] = -diff_limit\n",
        "diffs = [[d] for d in diffs]\n",
        "\n",
        "x_len = len(diffs) - (time_steps + observe_duration) + 1"
      ],
      "id": "9e2c1d4d"
    },
    {
      "cell_type": "code",
      "execution_count": 9,
      "metadata": {
        "id": "427b9129"
      },
      "outputs": [],
      "source": [
        "data = diffs\n",
        "scaler = StandardScaler()\n",
        "scaler.fit(data)\n",
        "data = scaler.transform(data)"
      ],
      "id": "427b9129"
    },
    {
      "cell_type": "code",
      "execution_count": null,
      "metadata": {
        "id": "b6d0b35c"
      },
      "outputs": [],
      "source": [
        "import pickle\n",
        "\n",
        "with open(\"scaler.pickle\", \"wb\") as outfile:\n",
        " pickle.dump(scaler, outfile)"
      ],
      "id": "b6d0b35c"
    },
    {
      "cell_type": "code",
      "execution_count": 10,
      "metadata": {
        "id": "9bd0b0c3"
      },
      "outputs": [],
      "source": [
        "labels = []\n",
        "\n",
        "x = []\n",
        "\n",
        "for i in range(len(data) - time_steps - observe_duration):\n",
        "    xx = data[i: i + time_steps]\n",
        "    x.append(xx)\n",
        "    label = 0\n",
        "    price_in = opens[i + time_steps]\n",
        "    for j in range(i + time_steps, i + time_steps + observe_duration):\n",
        "        min_inc = 10\n",
        "        max_inc = -10\n",
        "        inc = ((closes[j] - price_in) * 100 * leverage) / price_in\n",
        "        if inc > max_inc:\n",
        "            max_inc = inc\n",
        "        if inc < min_inc:\n",
        "            min_inc = inc\n",
        "\n",
        "        if max_inc > profit_margin + 1 and min_inc > -profit_margin + 1:\n",
        "            label = 1\n",
        "            break\n",
        "        if min_inc < -profit_margin - 1 and max_inc < profit_margin - 1:\n",
        "            label = -1\n",
        "            break\n",
        "\n",
        "    labels.append(label)\n"
      ],
      "id": "9bd0b0c3"
    },
    {
      "cell_type": "code",
      "source": [
        "labels[10:20]\n"
      ],
      "metadata": {
        "colab": {
          "base_uri": "https://localhost:8080/"
        },
        "id": "7lu4aTR8WCVF",
        "outputId": "bd6cc033-3296-4a2e-ac3e-653aff1c7337"
      },
      "id": "7lu4aTR8WCVF",
      "execution_count": 27,
      "outputs": [
        {
          "output_type": "execute_result",
          "data": {
            "text/plain": [
              "[0, 0, 0, 0, 0, -1, 0, -1, 0, 1]"
            ]
          },
          "metadata": {},
          "execution_count": 27
        }
      ]
    },
    {
      "cell_type": "code",
      "source": [
        "i = 15\n",
        "plt.plot(closes[i: i + time_steps + observe_duration])"
      ],
      "metadata": {
        "colab": {
          "base_uri": "https://localhost:8080/",
          "height": 448
        },
        "id": "azYzO4kWWPl0",
        "outputId": "f960a4db-cece-40d2-e54c-882cf4b89baf"
      },
      "id": "azYzO4kWWPl0",
      "execution_count": 28,
      "outputs": [
        {
          "output_type": "execute_result",
          "data": {
            "text/plain": [
              "[<matplotlib.lines.Line2D at 0x7b5eec419f90>]"
            ]
          },
          "metadata": {},
          "execution_count": 28
        },
        {
          "output_type": "display_data",
          "data": {
            "text/plain": [
              "<Figure size 640x480 with 1 Axes>"
            ],
            "image/png": "[encoded data removed]"
          },
          "metadata": {}
        }
      ]
    },
    {
      "cell_type": "code",
      "source": [
        "plt.plot(closes[i + time_steps: i + time_steps + observe_duration])"
      ],
      "metadata": {
        "colab": {
          "base_uri": "https://localhost:8080/",
          "height": 448
        },
        "id": "-713ny3FWieJ",
        "outputId": "e9f36983-785a-42b3-a046-58559f04fe66"
      },
      "id": "-713ny3FWieJ",
      "execution_count": 29,
      "outputs": [
        {
          "output_type": "execute_result",
          "data": {
            "text/plain": [
              "[<matplotlib.lines.Line2D at 0x7b5eec2a9120>]"
            ]
          },
          "metadata": {},
          "execution_count": 29
        },
        {
          "output_type": "display_data",
          "data": {
            "text/plain": [
              "<Figure size 640x480 with 1 Axes>"
            ],
            "image/png": "[encoded data removed]"
          },
          "metadata": {}
        }
      ]
    },
    {
      "cell_type": "code",
      "execution_count": 11,
      "metadata": {
        "id": "2480e5a3"
      },
      "outputs": [],
      "source": [
        "count1 = 0\n",
        "count2 = 0\n",
        "count3 = 0\n",
        "\n",
        "for i in range(len(labels)):\n",
        "    if labels[i] == 0:\n",
        "        count1 = count1 + 1\n",
        "    if labels[i] == 1:\n",
        "        count2 = count2 + 1\n",
        "    if labels[i] == -1:\n",
        "        count3 = count3 + 1"
      ],
      "id": "2480e5a3"
    },
    {
      "cell_type": "code",
      "execution_count": 12,
      "metadata": {
        "colab": {
          "base_uri": "https://localhost:8080/"
        },
        "id": "6271446b",
        "outputId": "09302c3a-a857-438c-a1c9-548a7ae7c809"
      },
      "outputs": [
        {
          "output_type": "execute_result",
          "data": {
            "text/plain": [
              "24333"
            ]
          },
          "metadata": {},
          "execution_count": 12
        }
      ],
      "source": [
        "count1"
      ],
      "id": "6271446b"
    },
    {
      "cell_type": "code",
      "execution_count": 13,
      "metadata": {
        "colab": {
          "base_uri": "https://localhost:8080/"
        },
        "id": "a75d4186",
        "outputId": "d042258c-ab9f-4ba4-cd0e-50d7e3b0bcd6"
      },
      "outputs": [
        {
          "output_type": "execute_result",
          "data": {
            "text/plain": [
              "9477"
            ]
          },
          "metadata": {},
          "execution_count": 13
        }
      ],
      "source": [
        "count2"
      ],
      "id": "a75d4186"
    },
    {
      "cell_type": "code",
      "execution_count": 14,
      "metadata": {
        "colab": {
          "base_uri": "https://localhost:8080/"
        },
        "id": "0a8ef769",
        "outputId": "f2cfc77e-5230-4bf1-a619-516f84b5a8f7"
      },
      "outputs": [
        {
          "output_type": "execute_result",
          "data": {
            "text/plain": [
              "9361"
            ]
          },
          "metadata": {},
          "execution_count": 14
        }
      ],
      "source": [
        "count3"
      ],
      "id": "0a8ef769"
    },
    {
      "cell_type": "code",
      "source": [
        "labels[:10]"
      ],
      "metadata": {
        "id": "WiXtCHrrMwVT"
      },
      "id": "WiXtCHrrMwVT",
      "execution_count": null,
      "outputs": []
    },
    {
      "cell_type": "code",
      "execution_count": 30,
      "metadata": {
        "id": "c1e0b9e6"
      },
      "outputs": [],
      "source": [
        "encoded_Y = np.array([a + (0 - min(labels)) for a in labels])\n",
        "y = to_categorical(encoded_Y)"
      ],
      "id": "c1e0b9e6"
    },
    {
      "cell_type": "code",
      "execution_count": 32,
      "metadata": {
        "id": "fcb7170b"
      },
      "outputs": [],
      "source": [
        "# shufle data\n",
        "\n",
        "X, y = shuffle(x, y, random_state=0)\n",
        "X = np.array(X)\n",
        "y = np.array(y)"
      ],
      "id": "fcb7170b"
    },
    {
      "cell_type": "code",
      "execution_count": 33,
      "metadata": {
        "id": "c07a375d"
      },
      "outputs": [],
      "source": [
        "r = 0.85\n",
        "n = int(r*len(X))\n",
        "X_train = X[:n]\n",
        "y_train = y[:n]\n",
        "X_test = X[len(X_train):]\n",
        "y_test = y[len(y_train):]"
      ],
      "id": "c07a375d"
    },
    {
      "cell_type": "code",
      "execution_count": 34,
      "metadata": {
        "colab": {
          "base_uri": "https://localhost:8080/"
        },
        "id": "e32a18b3",
        "outputId": "068df8a0-8d3e-4260-e84e-8dc8da67dfeb",
        "scrolled": true
      },
      "outputs": [
        {
          "output_type": "stream",
          "name": "stderr",
          "text": [
            "WARNING:tensorflow:Layer gru will not use cuDNN kernels since it doesn't meet the criteria. It will use a generic GPU kernel as fallback when running on GPU.\n",
            "WARNING:tensorflow:Layer gru_1 will not use cuDNN kernels since it doesn't meet the criteria. It will use a generic GPU kernel as fallback when running on GPU.\n"
          ]
        },
        {
          "output_type": "stream",
          "name": "stdout",
          "text": [
            "Model: \"sequential\"\n",
            "_________________________________________________________________\n",
            " Layer (type)                Output Shape              Param #   \n",
            "=================================================================\n",
            " gru (GRU)                   (None, 90, 500)           754500    \n",
            "                                                                 \n",
            " gru_1 (GRU)                 (None, 250)               564000    \n",
            "                                                                 \n",
            " dense (Dense)               (None, 250)               62750     \n",
            "                                                                 \n",
            " dense_1 (Dense)             (None, 125)               31375     \n",
            "                                                                 \n",
            " dense_2 (Dense)             (None, 3)                 378       \n",
            "                                                                 \n",
            "=================================================================\n",
            "Total params: 1413003 (5.39 MB)\n",
            "Trainable params: 1413003 (5.39 MB)\n",
            "Non-trainable params: 0 (0.00 Byte)\n",
            "_________________________________________________________________\n"
          ]
        }
      ],
      "source": [
        "from keras.callbacks import EarlyStopping\n",
        "\n",
        "model = Sequential()\n",
        "# model.add(SimpleRNN(300, input_shape=(time_steps,1), activation='tanh'))\n",
        "# model.add(LSTM(300, dropout=0.2, recurrent_dropout=0.2))\n",
        "# model.add(Dense(100, input_dim=4, activation='relu'))\n",
        "# model.add(Dense(3, activation='softmax'))\n",
        "\n",
        "# model.add(LSTM(500, input_shape=(time_steps, 1), dropout=0.2, recurrent_dropout=0.2))\n",
        "model.add(GRU(500, input_shape=(time_steps, 1), dropout=0.2, recurrent_dropout=0.2, return_sequences=True))\n",
        "model.add(GRU(250, dropout=0.2, recurrent_dropout=0.2))\n",
        "model.add(Dense(250, input_dim=4, activation='relu'))\n",
        "model.add(Dense(125, input_dim=4, activation='relu'))\n",
        "model.add(Dense(3, activation='softmax'))\n",
        "\n",
        "\n",
        "model.build((None,time_steps,1))\n",
        "\n",
        "model.compile(loss='categorical_crossentropy', optimizer='adam', metrics=['accuracy'])\n",
        "model.summary()\n",
        "\n"
      ],
      "id": "e32a18b3"
    },
    {
      "cell_type": "code",
      "source": [
        "X = X[-14400:]\n",
        "y = y[-14400:]"
      ],
      "metadata": {
        "id": "G35nZdBMMBjA"
      },
      "id": "G35nZdBMMBjA",
      "execution_count": 35,
      "outputs": []
    },
    {
      "cell_type": "code",
      "execution_count": 36,
      "metadata": {
        "colab": {
          "base_uri": "https://localhost:8080/"
        },
        "id": "97237787",
        "outputId": "d05af65b-b3c1-4c95-9508-079f1cdda52b"
      },
      "outputs": [
        {
          "output_type": "stream",
          "name": "stdout",
          "text": [
            "Epoch 1/80\n",
            "1296/1296 [==============================] - 317s 237ms/step - loss: 0.8897 - accuracy: 0.6025 - val_loss: 0.8682 - val_accuracy: 0.6028\n",
            "Epoch 2/80\n",
            "1296/1296 [==============================] - 309s 238ms/step - loss: 0.8625 - accuracy: 0.6149 - val_loss: 0.8652 - val_accuracy: 0.6028\n",
            "Epoch 3/80\n",
            "1296/1296 [==============================] - 307s 237ms/step - loss: 0.8552 - accuracy: 0.6181 - val_loss: 0.8725 - val_accuracy: 0.6146\n",
            "Epoch 4/80\n",
            "1296/1296 [==============================] - 306s 236ms/step - loss: 0.8523 - accuracy: 0.6171 - val_loss: 0.8979 - val_accuracy: 0.5979\n",
            "Epoch 5/80\n",
            "1296/1296 [==============================] - 305s 235ms/step - loss: 0.8531 - accuracy: 0.6167 - val_loss: 0.8815 - val_accuracy: 0.6049\n",
            "Epoch 6/80\n",
            "1296/1296 [==============================] - 305s 235ms/step - loss: 0.8514 - accuracy: 0.6164 - val_loss: 0.8617 - val_accuracy: 0.6160\n",
            "Epoch 7/80\n",
            "1296/1296 [==============================] - 304s 235ms/step - loss: 0.8524 - accuracy: 0.6216 - val_loss: 0.8444 - val_accuracy: 0.6271\n",
            "Epoch 8/80\n",
            "1296/1296 [==============================] - 304s 234ms/step - loss: 0.8446 - accuracy: 0.6216 - val_loss: 0.8422 - val_accuracy: 0.6243\n",
            "Epoch 9/80\n",
            "1296/1296 [==============================] - 304s 235ms/step - loss: 0.8414 - accuracy: 0.6252 - val_loss: 0.8470 - val_accuracy: 0.6264\n",
            "Epoch 10/80\n",
            "1296/1296 [==============================] - 305s 235ms/step - loss: 0.8430 - accuracy: 0.6250 - val_loss: 0.8410 - val_accuracy: 0.6208\n",
            "Epoch 11/80\n",
            "1296/1296 [==============================] - 305s 235ms/step - loss: 0.8397 - accuracy: 0.6301 - val_loss: 0.8467 - val_accuracy: 0.6306\n",
            "Epoch 12/80\n",
            "1296/1296 [==============================] - 305s 235ms/step - loss: 0.8417 - accuracy: 0.6256 - val_loss: 0.8519 - val_accuracy: 0.6278\n",
            "Epoch 13/80\n",
            "1296/1296 [==============================] - 302s 233ms/step - loss: 0.8407 - accuracy: 0.6254 - val_loss: 0.8323 - val_accuracy: 0.6271\n",
            "Epoch 14/80\n",
            "1296/1296 [==============================] - 301s 233ms/step - loss: 0.8428 - accuracy: 0.6253 - val_loss: 0.8635 - val_accuracy: 0.6160\n",
            "Epoch 15/80\n",
            "1296/1296 [==============================] - 296s 228ms/step - loss: 0.8376 - accuracy: 0.6244 - val_loss: 0.8424 - val_accuracy: 0.6215\n",
            "Epoch 16/80\n",
            "1296/1296 [==============================] - 297s 229ms/step - loss: 0.8404 - accuracy: 0.6243 - val_loss: 0.8663 - val_accuracy: 0.6208\n",
            "Epoch 17/80\n",
            "1296/1296 [==============================] - 297s 229ms/step - loss: 0.8363 - accuracy: 0.6287 - val_loss: 0.8446 - val_accuracy: 0.6229\n",
            "Epoch 18/80\n",
            "1296/1296 [==============================] - 296s 229ms/step - loss: 0.8348 - accuracy: 0.6291 - val_loss: 0.8482 - val_accuracy: 0.6236\n",
            "Epoch 19/80\n",
            "1296/1296 [==============================] - 297s 229ms/step - loss: 0.8313 - accuracy: 0.6291 - val_loss: 0.8336 - val_accuracy: 0.6187\n",
            "Epoch 20/80\n",
            "1296/1296 [==============================] - 297s 229ms/step - loss: 0.8312 - accuracy: 0.6285 - val_loss: 0.8243 - val_accuracy: 0.6222\n",
            "Epoch 21/80\n",
            "1296/1296 [==============================] - 296s 229ms/step - loss: 0.8285 - accuracy: 0.6335 - val_loss: 0.8461 - val_accuracy: 0.6187\n",
            "Epoch 22/80\n",
            "1296/1296 [==============================] - 296s 228ms/step - loss: 0.8252 - accuracy: 0.6320 - val_loss: 0.8331 - val_accuracy: 0.6229\n",
            "Epoch 23/80\n",
            "1296/1296 [==============================] - 297s 229ms/step - loss: 0.8239 - accuracy: 0.6360 - val_loss: 0.8292 - val_accuracy: 0.6340\n",
            "Epoch 24/80\n",
            "1296/1296 [==============================] - 297s 229ms/step - loss: 0.8212 - accuracy: 0.6346 - val_loss: 0.8379 - val_accuracy: 0.6229\n",
            "Epoch 25/80\n",
            "1296/1296 [==============================] - 296s 229ms/step - loss: 0.8165 - accuracy: 0.6361 - val_loss: 0.8358 - val_accuracy: 0.6229\n",
            "Epoch 26/80\n",
            "1296/1296 [==============================] - 297s 229ms/step - loss: 0.8172 - accuracy: 0.6353 - val_loss: 0.8195 - val_accuracy: 0.6229\n",
            "Epoch 27/80\n",
            "1296/1296 [==============================] - 297s 229ms/step - loss: 0.8136 - accuracy: 0.6387 - val_loss: 0.8314 - val_accuracy: 0.6174\n",
            "Epoch 28/80\n",
            "1296/1296 [==============================] - 296s 228ms/step - loss: 0.8102 - accuracy: 0.6404 - val_loss: 0.8261 - val_accuracy: 0.6250\n",
            "Epoch 29/80\n",
            "1296/1296 [==============================] - 296s 228ms/step - loss: 0.8063 - accuracy: 0.6377 - val_loss: 0.8204 - val_accuracy: 0.6278\n",
            "Epoch 30/80\n",
            "1296/1296 [==============================] - 296s 228ms/step - loss: 0.8041 - accuracy: 0.6345 - val_loss: 0.8185 - val_accuracy: 0.6368\n",
            "Epoch 31/80\n",
            "1296/1296 [==============================] - 299s 231ms/step - loss: 0.7997 - accuracy: 0.6410 - val_loss: 0.8179 - val_accuracy: 0.6292\n",
            "Epoch 32/80\n",
            "1296/1296 [==============================] - 299s 230ms/step - loss: 0.7943 - accuracy: 0.6434 - val_loss: 0.8086 - val_accuracy: 0.6389\n",
            "Epoch 33/80\n",
            "1296/1296 [==============================] - 298s 230ms/step - loss: 0.7938 - accuracy: 0.6458 - val_loss: 0.8122 - val_accuracy: 0.6187\n",
            "Epoch 34/80\n",
            "1296/1296 [==============================] - 298s 230ms/step - loss: 0.7896 - accuracy: 0.6512 - val_loss: 0.8082 - val_accuracy: 0.6438\n",
            "Epoch 35/80\n",
            "1296/1296 [==============================] - 296s 228ms/step - loss: 0.7859 - accuracy: 0.6462 - val_loss: 0.8052 - val_accuracy: 0.6382\n",
            "Epoch 36/80\n",
            "1296/1296 [==============================] - 295s 228ms/step - loss: 0.7810 - accuracy: 0.6522 - val_loss: 0.8006 - val_accuracy: 0.6438\n",
            "Epoch 37/80\n",
            "1296/1296 [==============================] - 295s 228ms/step - loss: 0.7747 - accuracy: 0.6552 - val_loss: 0.8069 - val_accuracy: 0.6451\n",
            "Epoch 38/80\n",
            "1296/1296 [==============================] - 295s 228ms/step - loss: 0.7783 - accuracy: 0.6548 - val_loss: 0.8251 - val_accuracy: 0.6319\n",
            "Epoch 39/80\n",
            "1296/1296 [==============================] - 295s 228ms/step - loss: 0.7705 - accuracy: 0.6584 - val_loss: 0.8003 - val_accuracy: 0.6444\n",
            "Epoch 40/80\n",
            "1296/1296 [==============================] - 295s 227ms/step - loss: 0.7662 - accuracy: 0.6593 - val_loss: 0.7982 - val_accuracy: 0.6368\n",
            "Epoch 41/80\n",
            "1296/1296 [==============================] - 296s 228ms/step - loss: 0.7666 - accuracy: 0.6593 - val_loss: 0.8108 - val_accuracy: 0.6382\n",
            "Epoch 42/80\n",
            "1296/1296 [==============================] - 295s 227ms/step - loss: 0.7588 - accuracy: 0.6671 - val_loss: 0.7840 - val_accuracy: 0.6451\n",
            "Epoch 43/80\n",
            "1296/1296 [==============================] - 294s 227ms/step - loss: 0.7598 - accuracy: 0.6600 - val_loss: 0.7858 - val_accuracy: 0.6583\n",
            "Epoch 44/80\n",
            "1296/1296 [==============================] - 294s 227ms/step - loss: 0.7489 - accuracy: 0.6701 - val_loss: 0.8108 - val_accuracy: 0.6368\n",
            "Epoch 45/80\n",
            "1296/1296 [==============================] - 295s 228ms/step - loss: 0.7480 - accuracy: 0.6704 - val_loss: 0.7796 - val_accuracy: 0.6597\n",
            "Epoch 46/80\n",
            "1296/1296 [==============================] - 294s 227ms/step - loss: 0.7417 - accuracy: 0.6731 - val_loss: 0.8043 - val_accuracy: 0.6181\n",
            "Epoch 47/80\n",
            "1296/1296 [==============================] - 294s 227ms/step - loss: 0.7401 - accuracy: 0.6701 - val_loss: 0.7971 - val_accuracy: 0.6375\n",
            "Epoch 48/80\n",
            "1296/1296 [==============================] - 294s 227ms/step - loss: 0.7333 - accuracy: 0.6799 - val_loss: 0.7793 - val_accuracy: 0.6424\n",
            "Epoch 49/80\n",
            "1296/1296 [==============================] - 294s 227ms/step - loss: 0.7347 - accuracy: 0.6731 - val_loss: 0.7881 - val_accuracy: 0.6528\n",
            "Epoch 50/80\n",
            "1296/1296 [==============================] - 293s 226ms/step - loss: 0.7225 - accuracy: 0.6825 - val_loss: 0.7735 - val_accuracy: 0.6681\n",
            "Epoch 51/80\n",
            "1296/1296 [==============================] - 294s 226ms/step - loss: 0.7219 - accuracy: 0.6818 - val_loss: 0.7677 - val_accuracy: 0.6701\n",
            "Epoch 52/80\n",
            "1296/1296 [==============================] - 294s 227ms/step - loss: 0.7213 - accuracy: 0.6833 - val_loss: 0.7889 - val_accuracy: 0.6507\n",
            "Epoch 53/80\n",
            "1296/1296 [==============================] - 293s 226ms/step - loss: 0.7218 - accuracy: 0.6803 - val_loss: 0.7952 - val_accuracy: 0.6549\n",
            "Epoch 54/80\n",
            "1296/1296 [==============================] - 295s 228ms/step - loss: 0.7130 - accuracy: 0.6833 - val_loss: 0.8020 - val_accuracy: 0.6639\n",
            "Epoch 55/80\n",
            "1296/1296 [==============================] - 296s 228ms/step - loss: 0.7097 - accuracy: 0.6844 - val_loss: 0.7978 - val_accuracy: 0.6556\n",
            "Epoch 56/80\n",
            "1296/1296 [==============================] - 295s 227ms/step - loss: 0.6996 - accuracy: 0.6936 - val_loss: 0.8019 - val_accuracy: 0.6611\n",
            "Epoch 57/80\n",
            "1296/1296 [==============================] - 295s 228ms/step - loss: 0.7009 - accuracy: 0.6959 - val_loss: 0.7832 - val_accuracy: 0.6479\n",
            "Epoch 58/80\n",
            "1296/1296 [==============================] - 295s 228ms/step - loss: 0.7001 - accuracy: 0.6928 - val_loss: 0.8070 - val_accuracy: 0.6590\n",
            "Epoch 59/80\n",
            "1296/1296 [==============================] - 298s 230ms/step - loss: 0.6907 - accuracy: 0.6972 - val_loss: 0.7966 - val_accuracy: 0.6639\n",
            "Epoch 60/80\n",
            "1296/1296 [==============================] - 299s 230ms/step - loss: 0.6917 - accuracy: 0.7011 - val_loss: 0.8126 - val_accuracy: 0.6722\n",
            "Epoch 61/80\n",
            "1296/1296 [==============================] - 300s 232ms/step - loss: 0.6925 - accuracy: 0.6975 - val_loss: 0.7785 - val_accuracy: 0.6701\n",
            "Epoch 62/80\n",
            "1296/1296 [==============================] - 301s 232ms/step - loss: 0.6809 - accuracy: 0.7070 - val_loss: 0.8320 - val_accuracy: 0.6396\n",
            "Epoch 63/80\n",
            "1296/1296 [==============================] - 299s 230ms/step - loss: 0.6886 - accuracy: 0.7032 - val_loss: 0.7967 - val_accuracy: 0.6632\n",
            "Epoch 64/80\n",
            "1296/1296 [==============================] - 299s 231ms/step - loss: 0.6868 - accuracy: 0.7029 - val_loss: 0.7921 - val_accuracy: 0.6646\n",
            "Epoch 65/80\n",
            "1296/1296 [==============================] - 301s 233ms/step - loss: 0.6832 - accuracy: 0.7010 - val_loss: 0.7996 - val_accuracy: 0.6722\n",
            "Epoch 66/80\n",
            "1296/1296 [==============================] - 303s 234ms/step - loss: 0.6798 - accuracy: 0.7022 - val_loss: 0.7914 - val_accuracy: 0.6556\n",
            "Epoch 67/80\n",
            "1296/1296 [==============================] - 303s 234ms/step - loss: 0.6807 - accuracy: 0.7056 - val_loss: 0.7612 - val_accuracy: 0.6674\n",
            "Epoch 68/80\n",
            "1296/1296 [==============================] - 310s 239ms/step - loss: 0.6720 - accuracy: 0.7052 - val_loss: 0.7990 - val_accuracy: 0.6646\n",
            "Epoch 69/80\n",
            "1296/1296 [==============================] - 310s 239ms/step - loss: 0.6758 - accuracy: 0.7032 - val_loss: 0.7610 - val_accuracy: 0.6792\n",
            "Epoch 70/80\n",
            "1296/1296 [==============================] - 310s 239ms/step - loss: 0.6826 - accuracy: 0.6979 - val_loss: 0.7649 - val_accuracy: 0.6736\n",
            "Epoch 71/80\n",
            "1296/1296 [==============================] - 309s 238ms/step - loss: 0.6604 - accuracy: 0.7150 - val_loss: 0.7607 - val_accuracy: 0.6819\n",
            "Epoch 72/80\n",
            "1296/1296 [==============================] - 314s 242ms/step - loss: 0.6734 - accuracy: 0.7082 - val_loss: 0.7605 - val_accuracy: 0.6833\n",
            "Epoch 73/80\n",
            "1296/1296 [==============================] - 316s 244ms/step - loss: 0.6694 - accuracy: 0.7087 - val_loss: 0.8030 - val_accuracy: 0.6507\n",
            "Epoch 74/80\n",
            "1296/1296 [==============================] - 314s 242ms/step - loss: 0.6703 - accuracy: 0.7111 - val_loss: 0.7710 - val_accuracy: 0.6479\n",
            "Epoch 75/80\n",
            "1296/1296 [==============================] - 312s 240ms/step - loss: 0.6655 - accuracy: 0.7090 - val_loss: 0.7644 - val_accuracy: 0.6611\n",
            "Epoch 76/80\n",
            "1296/1296 [==============================] - 318s 245ms/step - loss: 0.6736 - accuracy: 0.7051 - val_loss: 0.7684 - val_accuracy: 0.6785\n",
            "Epoch 77/80\n",
            "1296/1296 [==============================] - 313s 241ms/step - loss: 0.6742 - accuracy: 0.7093 - val_loss: 0.7777 - val_accuracy: 0.6535\n",
            "Epoch 78/80\n",
            "1296/1296 [==============================] - 313s 242ms/step - loss: 0.6666 - accuracy: 0.7115 - val_loss: 0.7650 - val_accuracy: 0.6757\n",
            "Epoch 79/80\n",
            "1296/1296 [==============================] - 314s 243ms/step - loss: 0.6629 - accuracy: 0.7106 - val_loss: 0.7726 - val_accuracy: 0.6611\n",
            "Epoch 80/80\n",
            "1296/1296 [==============================] - 315s 243ms/step - loss: 0.6592 - accuracy: 0.7157 - val_loss: 0.7721 - val_accuracy: 0.6729\n"
          ]
        }
      ],
      "source": [
        "history = model.fit(X, y, epochs=80, batch_size=10,validation_split=0.1)\n"
      ],
      "id": "97237787"
    },
    {
      "cell_type": "code",
      "execution_count": null,
      "metadata": {
        "id": "1a6ad05f"
      },
      "outputs": [],
      "source": [
        "import os\n",
        "import tensorflow as tf\n",
        "notebook_path = os.getcwd()\n",
        "model_path = f\"{notebook_path}/model/rnn\""
      ],
      "id": "1a6ad05f"
    },
    {
      "cell_type": "code",
      "execution_count": null,
      "metadata": {
        "id": "63fb88af"
      },
      "outputs": [],
      "source": [
        "version = 3\n",
        "export_path = os.path.join(model_path, str(version))\n",
        "print('export_path = {}\\n'.format(export_path))\n",
        "\n",
        "tf.keras.models.save_model(\n",
        "    model,\n",
        "    export_path,\n",
        "    overwrite=True,\n",
        "    include_optimizer=True,\n",
        "    save_format=None,\n",
        "    signatures=None,\n",
        "    options=None\n",
        ")\n",
        "\n",
        "print('\\nSaved model:')\n",
        "!ls -l {export_path}"
      ],
      "id": "63fb88af"
    }
  ],
  "metadata": {
    "accelerator": "GPU",
    "colab": {
      "machine_shape": "hm",
      "toc_visible": true,
      "provenance": [],
      "include_colab_link": true
    },
    "kernelspec": {
      "display_name": "Python 3",
      "name": "python3"
    },
    "language_info": {
      "codemirror_mode": {
        "name": "ipython",
        "version": 3
      },
      "file_extension": ".py",
      "mimetype": "text/x-python",
      "name": "python",
      "nbconvert_exporter": "python",
      "pygments_lexer": "ipython3",
      "version": "3.8.18"
    }
  },
  "nbformat": 4,
  "nbformat_minor": 5
}